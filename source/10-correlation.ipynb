{
 "cells": [
  {
   "cell_type": "markdown",
   "metadata": {},
   "source": [
    "# Correlation"
   ]
  },
  {
   "cell_type": "code",
   "execution_count": null,
   "metadata": {},
   "outputs": [],
   "source": [
    "import pandas as pd\n",
    "import matplotlib.pyplot as plt\n",
    "import numpy as np\n",
    "import math\n",
    "import scipy.stats\n",
    "\n",
    "food = pd.read_pickle(\"../data/processed/food\")"
   ]
  },
  {
   "cell_type": "markdown",
   "metadata": {},
   "source": [
    "With nominal variables we have seen that we can perform a [chi--squared test of association](09-chi-squared-test.html) to see if there is a relationship between the two variables.\n",
    "If we have two variables that are both at least ordinal we can use more powerful statistical techniques and test more purposeful hypotheses.\n",
    "\n",
    "For example, with nominal data we can only test to see if there is an association.\n",
    "We cannot test the nature or size of this association (except with 2x2 contingency tables we can calculate odds ratios).\n",
    "With ordinal or scale data we can explore the strength of the association between them.\n",
    "One such technique is *correlation*.\n",
    "\n",
    "Correlation is used to determine the strength of association between two variables, usually from one individual.\n",
    "For example we could calculate the correlation between the height and weight of each individual.\n",
    "\n",
    "There are several correlation statistics we can compute, and these are dependent on the [level of measurement](03-levels-of-measurement.html) of our data.\n",
    "\n",
    "## Pearson's correlation coefficient, $r$\n",
    "\n",
    "Pearson's correlation coefficient, $r$, is a measure of effect size (or correlation) between two numerical (interval or scale) variables.\n",
    "It works on the principle that as the difference from the mean for one variable increases we expect the difference from the mean for the related variable to increase (positive correlation) or decrease (negative correlation).\n",
    "\n",
    "$r$ is standardised, which is useful because:\n",
    "\n",
    "- tests of all sorts of units can be compared which each other,\n",
    "- the result is between -1 (perfect negative association), through 0 (no association), and 1 (perfect positive association)\n",
    "\n",
    "Let's say we hypothesise that people with higher incomes spend more money on food (they have more money to shop at Waitrose).\n",
    "Expenditure on food is [top--coded](https://en.wikipedia.org/wiki/Top-coded) (see the histogram below) so for the purpose of this example let's remove the top code:"
   ]
  },
  {
   "cell_type": "code",
   "execution_count": null,
   "metadata": {},
   "outputs": [],
   "source": [
    "food.hist(column = \"P550tpr\", bins = 100)\n",
    "plt.xlabel(\"Food expenditure (£)\")\n",
    "plt.ylabel(\"Frequency\")"
   ]
  },
  {
   "cell_type": "code",
   "execution_count": null,
   "metadata": {},
   "outputs": [],
   "source": [
    "food = food[food.P550tpr < food.P550tpr.max()]"
   ]
  },
  {
   "cell_type": "markdown",
   "metadata": {},
   "source": [
    "If we take an individual with a high income (their income deviates from the mean) we would expect their expenditure to also deviate from the expenditure mean.\n",
    "These deviations from the mean are their variances, so we are stating that we expect income and expenditure on food to **covary**.\n",
    "This principle is used to calculate the **Pearson correlation coefficient** (usually just called the correlation), which is a standardised measure of how much the two variables vary together."
   ]
  },
  {
   "cell_type": "code",
   "execution_count": null,
   "metadata": {},
   "outputs": [],
   "source": [
    "scipy.stats.pearsonr(\n",
    "    food[\"P344pr\"], food[\"P550tpr\"]\n",
    ")"
   ]
  },
  {
   "cell_type": "markdown",
   "metadata": {},
   "source": [
    "In this example the first number is the correlation coefficient and the second number is its associated $p$ value.\n",
    "\n",
    "The correlation is positive so as income goes up, expenditure on food goes up (if it were negative it would be a negative correlation, which would state that as income went up expenditure on food went down for some reason).\n",
    "The value of 0.63 suggests 63% ($0.63 \\times 100$) of the variance in expenditure is accounted for by income (so the correlation is strong).\n",
    "\n",
    "The $p$ value is $<< 0.01$ ($<<$ means 'much less than') so it is highly improbable we would see a correlation this large by chance alone, so we have strong evidence to reject the null hypothesis and conclude that there is an association between income and expenditure on food.\n",
    "\n",
    "### Assumptions\n",
    "\n",
    "Pearson's correlation coefficient makes the following assumptions for the $p$ value to be valid:\n",
    "\n",
    "- both variables are numeric,\n",
    "- both variables are normally distributed, and\n",
    "- there shouldn't be any outliers (defined as any values more than 3.29 standard deviations from the mean).\n",
    "\n",
    "In this case our variables are numeric (income and expenditure) so this assumption is met.\n",
    "\n",
    "To test if the variables are normally distributed we can plot a QQ plot.\n",
    "If the variable plotted is normally distributed it should lie along the straight red line:"
   ]
  },
  {
   "cell_type": "code",
   "execution_count": null,
   "metadata": {},
   "outputs": [],
   "source": [
    "# income\n",
    "scipy.stats.probplot(food.P344pr, plot = plt)"
   ]
  },
  {
   "cell_type": "code",
   "execution_count": null,
   "metadata": {},
   "outputs": [],
   "source": [
    "# Expenditure\n",
    "scipy.stats.probplot(food.P550tpr, plot = plt)"
   ]
  },
  {
   "cell_type": "markdown",
   "metadata": {},
   "source": [
    "Clearly neither income nor expenditure are normally distributed, so this is a violation of the assumption and may be a problem.\n",
    "Let's move on to outliers for now.\n",
    "\n",
    "Neither variable should have any outliers (defined as any value more than 3.29 standard deviations from the mean).\n",
    "For income this is ok:"
   ]
  },
  {
   "cell_type": "code",
   "execution_count": null,
   "metadata": {},
   "outputs": [],
   "source": [
    "len(\n",
    "    food[food.P344pr > \n",
    "        food.P344pr.mean() + (3.29 * food.P344pr.std())]\n",
    ")"
   ]
  },
  {
   "cell_type": "markdown",
   "metadata": {},
   "source": [
    "But there are a few outliers for the expenditure variable:"
   ]
  },
  {
   "cell_type": "code",
   "execution_count": null,
   "metadata": {},
   "outputs": [],
   "source": [
    "len(\n",
    "    food[food.P550tpr > \n",
    "        food.P550tpr.mean() + (3.29 * food.P550tpr.std())]\n",
    ")"
   ]
  },
  {
   "cell_type": "markdown",
   "metadata": {},
   "source": [
    "To be safe, let's remove these for our example, but you would want to understand these outliers a bit more in any real research (i.e. why are they outliers?):"
   ]
  },
  {
   "cell_type": "code",
   "execution_count": null,
   "metadata": {},
   "outputs": [],
   "source": [
    "food = food[food.P550tpr < food.P550tpr.mean() + (3.29 * food.P550tpr.std())]"
   ]
  },
  {
   "cell_type": "markdown",
   "metadata": {},
   "source": [
    "A scatterplot of these two variables:"
   ]
  },
  {
   "cell_type": "code",
   "execution_count": null,
   "metadata": {},
   "outputs": [],
   "source": [
    "food.plot.scatter(\"P344pr\", \"P550tpr\")\n",
    "plt.xlabel(\"Income\")\n",
    "plt.ylabel(\"Expenditure\")"
   ]
  },
  {
   "cell_type": "markdown",
   "metadata": {},
   "source": [
    "The points should be linear (i.e. a straight line) and roughly cylindrical to meet the assumptions.\n",
    "If it's too conincal it means the deviances aren't consistent (heteroskedasticity).\n",
    "If the assumptions of Pearson's correlation coefficient are not met we can use a non--parametric correlation statistic, as we may need to do in the case of our example.\n",
    "\n",
    "## Spearman's $\\rho$\n",
    "\n",
    "Spearman's $\\rho$ (pronounced 'row') is a non--parametric correlation statistic that is very useful when we cannot use Pearson's correlation coefficient, either because our data is ordinal but not numerical (interval or scale) or otherwise violates the assumptions of Pearson's $r$.\n",
    "\n",
    "This is a **non--parametric** test.\n",
    "Non--parametric tests tend to be more robust (which is why we can use them when we violate some of the assumptions of the parametric equivalents, in this case Pearon's $r$) but sometimes have lower statistical power.\n",
    "Therefore, try to use the parametric version by default and switch to the non--parametric version when necessary.\n",
    "\n",
    "A Spearman correlation test of our variables (income and expenditure) is as follows:"
   ]
  },
  {
   "cell_type": "code",
   "execution_count": null,
   "metadata": {},
   "outputs": [],
   "source": [
    "scipy.stats.spearmanr(\n",
    "    food[\"P344pr\"], food[\"P550tpr\"]\n",
    ")"
   ]
  },
  {
   "cell_type": "markdown",
   "metadata": {},
   "source": [
    "As you can see in this example the correlation statistic (denoted $r_{s}$) is very similar to the results of the Pearson's $r$ and the $p$ value is still significant ($<< 0.01$).\n",
    "\n",
    "## Kendall's $\\tau$\n",
    "\n",
    "Kendall's $\\tau$ (pronounced to rhyme with 'ow', or more correctly as '[taff](https://en.wikipedia.org/wiki/Tau)') is another non--parametric correlation statistic, similar to Spearman's $\\rho$, but useful when we have lots of tied ranks.\n",
    "\n",
    "Tied ranks means that the data share the same value.\n",
    "For example, if we have five possible responses (1--5) and 100 respondents in our sample we must have a lot of tied ranks (i.e. about 20 respondents tied for each level of response).\n",
    "This condition is quite common in the social sciences because we use Likert scales a lot (e.g. strongly agree, agree, neither agree nor disagree, disagree, strongly disagree).\n",
    "\n",
    "This was not a problem for our example (income and food expenditure) because these responses were not tied.\n",
    "We can nevertheless still calculate Kendall's $\\tau$ for these variables:"
   ]
  },
  {
   "cell_type": "code",
   "execution_count": null,
   "metadata": {},
   "outputs": [],
   "source": [
    "scipy.stats.kendalltau(\n",
    "    food[\"P344pr\"], food[\"P550tpr\"]\n",
    ")"
   ]
  },
  {
   "cell_type": "markdown",
   "metadata": {},
   "source": [
    "Notice that the $p$ value is still significant ($<< 0.01$) but the estimate of the amount of correlation is lower."
   ]
  }
 ],
 "metadata": {
  "kernelspec": {
   "display_name": "Python 3",
   "language": "python",
   "name": "python3"
  },
  "language_info": {
   "codemirror_mode": {
    "name": "ipython",
    "version": 3
   },
   "file_extension": ".py",
   "mimetype": "text/x-python",
   "name": "python",
   "nbconvert_exporter": "python",
   "pygments_lexer": "ipython3",
   "version": "3.6.6"
  }
 },
 "nbformat": 4,
 "nbformat_minor": 2
}
