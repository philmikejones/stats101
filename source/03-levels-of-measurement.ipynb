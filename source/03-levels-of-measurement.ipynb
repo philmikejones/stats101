{
 "cells": [
  {
   "cell_type": "markdown",
   "metadata": {},
   "source": [
    "# Levels of measurement\n",
    "\n",
    "Levels of measurement describe the nature of your data point.\n",
    "They are important because they determine what type of descriptive statistics are appropriate to report and what type of analysis (statistical tests or predictions) you can perform with them.\n",
    "Before performing any analysis think about the level of measurement and what is appropriate.\n",
    "\n",
    "The four levels of measurement are:\n",
    "\n",
    "\n",
    "## Nominal\n",
    "\n",
    "Also known as **categorical**.\n",
    "These are labels such as male/female; no religion/religion.\n",
    "They have no inherent order; one response is not 'better' or 'higher' than another.\n",
    "As social scientists you'll find these are pretty common.\n",
    "\n",
    "\n",
    "## Ordinal\n",
    "\n",
    "Similar to nominal in that they are labels (rather than numbers), but the labels have a rank or order.\n",
    "For example, a 'strongly disagree' to 'strongly agree' scale (sometimes called a [Likert scale](https://en.wikipedia.org/wiki/Likert_scale)) is ordinal.\n",
    "Another example would be 'guilty' and 'not guilty'.\n",
    "\n",
    "\n",
    "## Interval\n",
    "\n",
    "Interval data is numerical but does not have a meaningful zero value.\n",
    "The most common example often given is temperature expressed in degrees celcius.\n",
    "A temperature of 20&deg;C is not twice as hot as 10&deg;C, because 0&deg;C is arbitrary (based on the freezing point of water) rather than based on the absence of heat.\n",
    "\n",
    "A more common example in the social sciences is date, as years are based on an arbitrary zero (0AD).\n",
    "\n",
    "\n",
    "## Ratio\n",
    "\n",
    "Ratio data is again numerical, but differs from interval because it has a meaningful, non--arbitrary, zero.\n",
    "As we saw above dates are interval, but age is ratio because it has a meaningful zero (i.e. birth).\n",
    "It is correct to say that someone who is ten years old is twice as old as someone who is five years old.\n",
    "\n",
    "It is more common for numerical data to be ratio than interval.\n",
    "Other examples include income and number of events (e.g. number of crimes in an area).\n",
    "There are two sub--types of numerical (interval or ratio) data:\n",
    "\n",
    "### Discrete and continuous data\n",
    "\n",
    "One additional thing to bear in mind for interval and ratio data is that it can be discrete or continuous.\n",
    "\n",
    "- Discrete means it can only take on certain (discrete) values, usually integers (1, 2, 3...)\n",
    "- Continuous means it can take on any numerical value (1.23, 4.56, 7.897126534).\n",
    "\n",
    "Discrete data is usually count data (i.e. frequencies things occur) which are quite common in the social sciences.\n",
    "It is not possible to own 1.6 cars or have 2.4 children, for example.\n",
    "\n",
    "Continuous data can take on any value and is usually measured.\n",
    "Examples include height, weight, and age (although age is usually measured on a discrete scale; number of years).\n",
    "\n",
    "Income is the most common 'unusual' one, in that it can be a decimal (i.e. pence) but is discrete because you can only have a limited range of values less than 1.0 (i.e. you cannot have 0.3 pence).\n",
    "It is, however, most commonly treated as continuous and in most models this works well."
   ]
  }
 ],
 "metadata": {
  "kernelspec": {
   "display_name": "Python 3",
   "language": "python",
   "name": "python3"
  },
  "language_info": {
   "codemirror_mode": {
    "name": "ipython",
    "version": 3
   },
   "file_extension": ".py",
   "mimetype": "text/x-python",
   "name": "python",
   "nbconvert_exporter": "python",
   "pygments_lexer": "ipython3",
   "version": "3.6.6"
  }
 },
 "nbformat": 4,
 "nbformat_minor": 2
}
