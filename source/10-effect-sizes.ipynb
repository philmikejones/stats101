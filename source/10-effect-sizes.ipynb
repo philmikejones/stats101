{
 "cells": [
  {
   "cell_type": "markdown",
   "metadata": {},
   "source": [
    "# Effect sizes"
   ]
  },
  {
   "cell_type": "code",
   "execution_count": null,
   "metadata": {},
   "outputs": [],
   "source": [
    "import pandas as pd\n",
    "import matplotlib.pyplot as plt\n",
    "import numpy as np\n",
    "import math\n",
    "import scipy.stats\n",
    "\n",
    "food = pd.read_pickle(\"../data/processed/food\")"
   ]
  },
  {
   "cell_type": "markdown",
   "metadata": {},
   "source": [
    "Determining that there *is* an association is all very well and good, but it tells us nothing of what the size of the effect is.\n",
    "For example, our hypothesis test has determined it is probable that there is an association between the employment grade of the household reference person and tenure, but it does not tell us *how much* more likely they are to own their home.\n",
    "\n",
    "The most common measures of effect size are:\n",
    "\n",
    "- odds ratio\n",
    "- Pearson's correlation coefficient, $r$\n",
    "\n",
    "There are others, for example Cohen's $d$ which is useful if the group sizes are very different, but these are the two most common in the social sciences."
   ]
  },
  {
   "cell_type": "markdown",
   "metadata": {},
   "source": [
    "## Odds ratio\n",
    "\n",
    "The odds ratio is a way of specifying the effect size for 2x2 contingency tables.\n",
    "For our example of employment grade and housing tenure we have more than a 2x2 table, but we can restate it so instead of just measuring an association between all employment grades and tenure types we can calculate the odds ratio of professional and managerial respondents owning their home and routine and manual respondents owning their home.\n",
    "\n",
    "Here's a reminder of the frequencies of all employment grades and tenure types:"
   ]
  },
  {
   "cell_type": "code",
   "execution_count": null,
   "metadata": {},
   "outputs": [],
   "source": [
    "pd.crosstab(index = food.A094r, columns = food.A121r, margins = True, margins_name = \"Total\")"
   ]
  },
  {
   "cell_type": "markdown",
   "metadata": {},
   "source": [
    "The odds ratio is the odds of one group for the event of interest divided by the odds of the other group for the event of interest.\n",
    "So we need two sets of odds.\n",
    "\n",
    "First we specify the odds of the professional and managerial group owning their own home.\n",
    "This is the number of professional respondents who own their home (1282), divided by the number of professional respondents who *do not* own their home (70 + 237):"
   ]
  },
  {
   "cell_type": "code",
   "execution_count": null,
   "metadata": {},
   "outputs": [],
   "source": [
    "1282 / (70 + 237)"
   ]
  },
  {
   "cell_type": "markdown",
   "metadata": {},
   "source": [
    "This means that, roughly, for every professional and managerial respondent who *does not* own their home there are four who do.\n",
    "\n",
    "Similarly the odds of a routine and manual respondent owning their home is the number of routine and manual respondents who own their home (523) divided by the number of routine and manual respondents who *do not* own their own home (289 + 233):"
   ]
  },
  {
   "cell_type": "code",
   "execution_count": null,
   "metadata": {},
   "outputs": [],
   "source": [
    "523 / (289 + 233)"
   ]
  },
  {
   "cell_type": "markdown",
   "metadata": {},
   "source": [
    "This means that, roughly, for every routine and manual respondent who *does not* own their home there is one who does, so the odds are about equal or 1:1.\n",
    "\n",
    "The odds ratio is simply one divided by the other:"
   ]
  },
  {
   "cell_type": "code",
   "execution_count": null,
   "metadata": {},
   "outputs": [],
   "source": [
    "(1282 / (70 + 237)) / (523 / (289 + 233))"
   ]
  },
  {
   "cell_type": "markdown",
   "metadata": {},
   "source": [
    "What this means is that professional and managerial respondents are 4.168 times more likely to own their home than routine and manual respondents."
   ]
  },
  {
   "cell_type": "markdown",
   "metadata": {},
   "source": [
    "## Pearson's correlation coefficient, $r$\n",
    "\n",
    "$r$ is standardised, which is useful because:\n",
    "\n",
    "- tests of all sorts of units can be compared which each other,\n",
    "- the result is between -1 (perfect negative association), through 0 (no association), and 1 (perfect positive association)\n",
    "\n",
    "$r$ is a measure of effect size (or correlation) between two numerical variables.\n",
    "It works on the principle that as the difference from the mean for one variable increases we expect the difference from the mean for the related variable to increase (positive correlation) or decrease (negative correlation).\n",
    "\n",
    "For example the mean income is:"
   ]
  },
  {
   "cell_type": "code",
   "execution_count": null,
   "metadata": {},
   "outputs": [],
   "source": [
    "food.P344pr.mean()"
   ]
  },
  {
   "cell_type": "markdown",
   "metadata": {},
   "source": [
    "Let's say we hypothesise that people with higher incomes spend more money on food (they have more money to shop at Waitrose).\n",
    "Expenditure is top--coded, so let's trim the data like we did for income and take a look at the resulting distribution:"
   ]
  },
  {
   "cell_type": "code",
   "execution_count": null,
   "metadata": {},
   "outputs": [],
   "source": [
    "food = food[food.P550tpr < food.P550tpr.max()]\n",
    "food.hist(column = \"P550tpr\", bins = 100)\n",
    "plt.xlabel(\"Food expenditure (£)\")\n",
    "plt.ylabel(\"Frequency\")"
   ]
  },
  {
   "cell_type": "markdown",
   "metadata": {},
   "source": [
    "The mean expenditure is:"
   ]
  },
  {
   "cell_type": "code",
   "execution_count": null,
   "metadata": {},
   "outputs": [],
   "source": [
    "food.P550tpr.mean()"
   ]
  },
  {
   "cell_type": "markdown",
   "metadata": {},
   "source": [
    "If we take an individual with a high income (their income deviates from the mean) we would expect their expenditure to also deviate from the expenditure mean.\n",
    "These deviations from the mean are their variances, so we are stating that we expect income and expenditure on food to **covary**.\n",
    "This principle is used to calculate the **Pearson correlation coefficient** (usually just called the correlation), which is a standardised measure of how much the two variables vary together."
   ]
  },
  {
   "cell_type": "code",
   "execution_count": null,
   "metadata": {},
   "outputs": [],
   "source": [
    "scipy.stats.pearsonr(\n",
    "    food[\"P344pr\"], food[\"P550tpr\"]\n",
    ")"
   ]
  },
  {
   "cell_type": "markdown",
   "metadata": {},
   "source": [
    "In this example the first number is the correlation coefficient and the second number is its associated $p$ value.\n",
    "\n",
    "The correlation is positive so as income goes up, expenditure on food goes up (if it were negative it would be a negative correlation, which would state that as income went up expenditure on food went down for some reason).\n",
    "The value of 0.63 suggests quite a lot of the variance in expenditure is accounted for by income (so the correlation is strong).\n",
    "\n",
    "The $p$ value is $<< 0.01$ ($<<$ means 'much less than') so it is highly improbable we would see a correlation this large by chance alone, so we have strong evidence to reject the null hypothesis and conclude that there is an association between income and expenditure on food.\n",
    "\n",
    "### Assumptions\n",
    "\n",
    "Pearson's correlation coefficient assumes that both variables are numeric and normally distributed for the $p$ value to be accurate.\n",
    "In this case our variables are numeric (income and expenditure) so this assumption is met.\n",
    "\n",
    "Neither variable should have any outliers (defined as any value greater than the mean + 3.29 standard deviations).\n",
    "For income this is ok:"
   ]
  },
  {
   "cell_type": "code",
   "execution_count": null,
   "metadata": {},
   "outputs": [],
   "source": [
    "len(\n",
    "    food[food.P344pr > \n",
    "                 food.P344pr.mean() + (3.29 * food.P344pr.std())]\n",
    ")"
   ]
  },
  {
   "cell_type": "markdown",
   "metadata": {},
   "source": [
    "But there are a few outliers for the expenditure variable:"
   ]
  },
  {
   "cell_type": "code",
   "execution_count": null,
   "metadata": {},
   "outputs": [],
   "source": [
    "len(\n",
    "    food[food.P550tpr > \n",
    "                 food.P550tpr.mean() + (3.29 * food.P550tpr.std())]\n",
    ")"
   ]
  },
  {
   "cell_type": "markdown",
   "metadata": {},
   "source": [
    "To be safe, let's remove these:"
   ]
  },
  {
   "cell_type": "code",
   "execution_count": null,
   "metadata": {},
   "outputs": [],
   "source": [
    "food = food[food.P550tpr < food.P550tpr.mean() + (3.29 * food.P550tpr.std())]"
   ]
  },
  {
   "cell_type": "markdown",
   "metadata": {},
   "source": [
    "A scatterplot of these two variables:"
   ]
  },
  {
   "cell_type": "code",
   "execution_count": null,
   "metadata": {},
   "outputs": [],
   "source": [
    "food.plot.scatter(\"P344pr\", \"P550tpr\")\n",
    "plt.xlabel(\"Income\")\n",
    "plt.ylabel(\"Expenditure\")"
   ]
  },
  {
   "cell_type": "markdown",
   "metadata": {},
   "source": [
    "The points should be linear (i.e. a straight line) and roughly cylindrical to meet the assumptions.\n",
    "If it's too conincal it means the deviances aren't consistent (heteroskedasticity).\n",
    "\n",
    "If these assumptions aren't true of our data we can use **Spearman's $\\rho$** (pronounced 'row').\n",
    "Spearman's $\\rho$ is also useful when we have a numeric variable and an ordinal variable (something we couldn't test with Pearson's $r$).\n",
    "\n",
    "This is a **non--parametric** test.\n",
    "Non--parametric tests tend to be more robust (which is why we can use them when we violate some of the assumptions of the parametric equivalents, in this case Pearon's $r$) but sometimes have lower statistical power.\n",
    "Therefore, try to use the parametric version by default and switch to the non--parametric version when necessary."
   ]
  },
  {
   "cell_type": "code",
   "execution_count": null,
   "metadata": {},
   "outputs": [],
   "source": [
    "scipy.stats.spearmanr(\n",
    "    food[\"P344pr\"], food[\"P550tpr\"]\n",
    ")"
   ]
  },
  {
   "cell_type": "markdown",
   "metadata": {},
   "source": [
    "As you can see in this example the correlation statistic is very similar and the $p$ value is still significant ($<< 0.01$)."
   ]
  }
 ],
 "metadata": {
  "kernelspec": {
   "display_name": "Python 3",
   "language": "python",
   "name": "python3"
  },
  "language_info": {
   "codemirror_mode": {
    "name": "ipython",
    "version": 3
   },
   "file_extension": ".py",
   "mimetype": "text/x-python",
   "name": "python",
   "nbconvert_exporter": "python",
   "pygments_lexer": "ipython3",
   "version": "3.6.6"
  }
 },
 "nbformat": 4,
 "nbformat_minor": 2
}
