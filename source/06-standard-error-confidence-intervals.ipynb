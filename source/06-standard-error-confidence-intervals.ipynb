{
 "cells": [
  {
   "cell_type": "markdown",
   "metadata": {},
   "source": [
    "# Standard error and confidence intervals"
   ]
  },
  {
   "cell_type": "code",
   "execution_count": 1,
   "metadata": {},
   "outputs": [],
   "source": [
    "import os\n",
    "import pandas as pd\n",
    "import matplotlib.pyplot as plt\n",
    "import numpy as np\n",
    "import math\n",
    "import scipy.stats"
   ]
  },
  {
   "cell_type": "code",
   "execution_count": 2,
   "metadata": {},
   "outputs": [
    {
     "data": {
      "text/html": [
       "<div>\n",
       "<style scoped>\n",
       "    .dataframe tbody tr th:only-of-type {\n",
       "        vertical-align: middle;\n",
       "    }\n",
       "\n",
       "    .dataframe tbody tr th {\n",
       "        vertical-align: top;\n",
       "    }\n",
       "\n",
       "    .dataframe thead th {\n",
       "        text-align: right;\n",
       "    }\n",
       "</style>\n",
       "<table border=\"1\" class=\"dataframe\">\n",
       "  <thead>\n",
       "    <tr style=\"text-align: right;\">\n",
       "      <th></th>\n",
       "      <th>C_AGE_NAME</th>\n",
       "    </tr>\n",
       "  </thead>\n",
       "  <tbody>\n",
       "    <tr>\n",
       "      <th>count</th>\n",
       "      <td>552698.000000</td>\n",
       "    </tr>\n",
       "    <tr>\n",
       "      <th>mean</th>\n",
       "      <td>37.872098</td>\n",
       "    </tr>\n",
       "    <tr>\n",
       "      <th>std</th>\n",
       "      <td>23.053824</td>\n",
       "    </tr>\n",
       "    <tr>\n",
       "      <th>min</th>\n",
       "      <td>0.000000</td>\n",
       "    </tr>\n",
       "    <tr>\n",
       "      <th>25%</th>\n",
       "      <td>20.000000</td>\n",
       "    </tr>\n",
       "    <tr>\n",
       "      <th>50%</th>\n",
       "      <td>36.000000</td>\n",
       "    </tr>\n",
       "    <tr>\n",
       "      <th>75%</th>\n",
       "      <td>55.000000</td>\n",
       "    </tr>\n",
       "    <tr>\n",
       "      <th>max</th>\n",
       "      <td>100.000000</td>\n",
       "    </tr>\n",
       "  </tbody>\n",
       "</table>\n",
       "</div>"
      ],
      "text/plain": [
       "          C_AGE_NAME\n",
       "count  552698.000000\n",
       "mean       37.872098\n",
       "std        23.053824\n",
       "min         0.000000\n",
       "25%        20.000000\n",
       "50%        36.000000\n",
       "75%        55.000000\n",
       "max       100.000000"
      ]
     },
     "execution_count": 2,
     "metadata": {},
     "output_type": "execute_result"
    }
   ],
   "source": [
    "age = pd.read_csv(\"../data/external/age.csv\")\n",
    "age = age[[\"C_AGE_NAME\", \"OBS_VALUE\"]]\n",
    "age.C_AGE_NAME = age.C_AGE_NAME.str.replace(\"Age under 1\", \"0\")\n",
    "age.C_AGE_NAME = age.C_AGE_NAME.str.replace(\" and over\", \"\")\n",
    "age.C_AGE_NAME = age.C_AGE_NAME.str.replace(\"Age \", \"\")\n",
    "age.C_AGE_NAME = pd.to_numeric(age.C_AGE_NAME)\n",
    "sum_obsvalue = age.OBS_VALUE.sum()  # for checks\n",
    "\n",
    "age = age.loc[age.index.repeat(age[\"OBS_VALUE\"])]\n",
    "\n",
    "if len(age.index) != sum_obsvalue:\n",
    "    raise Exception(\"age data frame not spread correctly\")\n",
    "\n",
    "age = age.drop(\"OBS_VALUE\", axis = 1)  # default 'axis' is 'index'\n",
    "    \n",
    "age.describe()"
   ]
  },
  {
   "cell_type": "code",
   "execution_count": 3,
   "metadata": {},
   "outputs": [
    {
     "data": {
      "text/html": [
       "<div>\n",
       "<style scoped>\n",
       "    .dataframe tbody tr th:only-of-type {\n",
       "        vertical-align: middle;\n",
       "    }\n",
       "\n",
       "    .dataframe tbody tr th {\n",
       "        vertical-align: top;\n",
       "    }\n",
       "\n",
       "    .dataframe thead th {\n",
       "        text-align: right;\n",
       "    }\n",
       "</style>\n",
       "<table border=\"1\" class=\"dataframe\">\n",
       "  <thead>\n",
       "    <tr style=\"text-align: right;\">\n",
       "      <th></th>\n",
       "      <th>C_AGE_NAME</th>\n",
       "    </tr>\n",
       "  </thead>\n",
       "  <tbody>\n",
       "    <tr>\n",
       "      <th>count</th>\n",
       "      <td>99412.000000</td>\n",
       "    </tr>\n",
       "    <tr>\n",
       "      <th>mean</th>\n",
       "      <td>42.833169</td>\n",
       "    </tr>\n",
       "    <tr>\n",
       "      <th>std</th>\n",
       "      <td>24.719087</td>\n",
       "    </tr>\n",
       "    <tr>\n",
       "      <th>min</th>\n",
       "      <td>0.000000</td>\n",
       "    </tr>\n",
       "    <tr>\n",
       "      <th>25%</th>\n",
       "      <td>22.000000</td>\n",
       "    </tr>\n",
       "    <tr>\n",
       "      <th>50%</th>\n",
       "      <td>43.000000</td>\n",
       "    </tr>\n",
       "    <tr>\n",
       "      <th>75%</th>\n",
       "      <td>63.000000</td>\n",
       "    </tr>\n",
       "    <tr>\n",
       "      <th>max</th>\n",
       "      <td>100.000000</td>\n",
       "    </tr>\n",
       "  </tbody>\n",
       "</table>\n",
       "</div>"
      ],
      "text/plain": [
       "         C_AGE_NAME\n",
       "count  99412.000000\n",
       "mean      42.833169\n",
       "std       24.719087\n",
       "min        0.000000\n",
       "25%       22.000000\n",
       "50%       43.000000\n",
       "75%       63.000000\n",
       "max      100.000000"
      ]
     },
     "execution_count": 3,
     "metadata": {},
     "output_type": "execute_result"
    }
   ],
   "source": [
    "age_ebn = pd.read_csv(\"../data/external/age_ebn.csv\")\n",
    "age_ebn = age_ebn[[\"C_AGE_NAME\", \"OBS_VALUE\"]]\n",
    "age_ebn.C_AGE_NAME = age_ebn.C_AGE_NAME.str.replace(\"Age under 1\", \"0\")\n",
    "age_ebn.C_AGE_NAME = age_ebn.C_AGE_NAME.str.replace(\" and over\", \"\")\n",
    "age_ebn.C_AGE_NAME = age_ebn.C_AGE_NAME.str.replace(\"Age \", \"\")\n",
    "age_ebn.C_AGE_NAME = pd.to_numeric(age_ebn.C_AGE_NAME)\n",
    "sum_obsvalue = age_ebn.OBS_VALUE.sum()  # for checks\n",
    "\n",
    "age_ebn = age_ebn.loc[age_ebn.index.repeat(age_ebn[\"OBS_VALUE\"])]\n",
    "\n",
    "if len(age_ebn.index) != sum_obsvalue:\n",
    "    raise Exception(\"age_ebn data frame not spread correctly\")\n",
    "\n",
    "age_ebn = age_ebn.drop(\"OBS_VALUE\", axis = 1)\n",
    "\n",
    "age_ebn.describe()"
   ]
  },
  {
   "cell_type": "markdown",
   "metadata": {},
   "source": [
    "You can calculate a standard error of many parameters, but typically it refers to the standard error of the mean ($SE_{\\bar{x}}$).\n",
    "The standard error of the mean differs from the standard deviation: the standard deviation quantifies how well the sample mean fits the observed (i.e. sample) data, and the standard error of the mean quantifies how well the sample mean matches the population mean.\n",
    "\n",
    "Because any sample we take from the population is going to be slightly different from all other samples (because everything varies) each sample mean is going to be slightly different from every other.\n",
    "The standard error of the mean is a measure of how confident our sample mean matches the population mean.\n",
    "\n",
    "One approach to calculate the standard error of the mean would be to take multiple samples.\n",
    "The mean of each of these samples would form a sampling distribution due to variation: some sample means would be lower than the population mean; some sample means would be higher than the population mean; and many would be the same.\n",
    "These sample mean values would form a normal distribution around the population mean.\n",
    "The standard deviation of these sample means would tell us how well our sample means fit the population mean.\n",
    "\n",
    "In practice we can usually only take one sample so we can estimate it with:\n",
    "\n",
    "$$\n",
    "\\sigma_{\\bar{x}} \\approx \\frac{s}{\\sqrt{n}}\n",
    "$$\n",
    "\n",
    "where $\\sigma_{\\bar{x}}$ is the standard error of the population mean (the parameter we're trying to estimate), $s$ is the sample standard deviation, and $n$ is the number of observations in the sample ($\\approx$ just means 'approximately equal to').\n",
    "\n",
    "We can demonstrate this with the census (in fact, we could demonstrate this with any data set and pretend it's the population and take multiple samples from it, but why not just use an actual population?).\n",
    "I'm using ages of all people in Sheffield in 2011 to illustrate this, which I download from Nomisweb:"
   ]
  },
  {
   "cell_type": "markdown",
   "metadata": {},
   "source": [
    "The following is a histogram of ages of people living in Sheffield from the 2011 Census."
   ]
  },
  {
   "cell_type": "code",
   "execution_count": 4,
   "metadata": {},
   "outputs": [
    {
     "data": {
      "text/plain": [
       "Text(0, 0.5, 'Frequency')"
      ]
     },
     "execution_count": 4,
     "metadata": {},
     "output_type": "execute_result"
    },
    {
     "data": {
      "image/png": "[encoded data removed]",
      "text/plain": [
       "<Figure size 432x288 with 1 Axes>"
      ]
     },
     "metadata": {
      "needs_background": "light"
     },
     "output_type": "display_data"
    }
   ],
   "source": [
    "age.hist(\"C_AGE_NAME\", bins = 100)\n",
    "plt.xlabel(\"Age\")\n",
    "plt.ylabel(\"Frequency\")"
   ]
  },
  {
   "cell_type": "markdown",
   "metadata": {},
   "source": [
    "The median age is:"
   ]
  },
  {
   "cell_type": "code",
   "execution_count": 5,
   "metadata": {},
   "outputs": [
    {
     "data": {
      "text/plain": [
       "36.0"
      ]
     },
     "execution_count": 5,
     "metadata": {},
     "output_type": "execute_result"
    }
   ],
   "source": [
    "age.C_AGE_NAME.median()"
   ]
  },
  {
   "cell_type": "markdown",
   "metadata": {},
   "source": [
    "The mean age is (remember this is the mean of the population, which we wouldn't normally know):"
   ]
  },
  {
   "cell_type": "code",
   "execution_count": 6,
   "metadata": {},
   "outputs": [
    {
     "data": {
      "text/plain": [
       "37.87209832494418"
      ]
     },
     "execution_count": 6,
     "metadata": {},
     "output_type": "execute_result"
    }
   ],
   "source": [
    "age.C_AGE_NAME.mean()"
   ]
  },
  {
   "cell_type": "markdown",
   "metadata": {},
   "source": [
    "Let's take 1000 samples of 100 people from the population, and make a sampling distribution of these means:"
   ]
  },
  {
   "cell_type": "code",
   "execution_count": 7,
   "metadata": {},
   "outputs": [],
   "source": [
    "samples = []\n",
    "\n",
    "for i in range(1000):\n",
    "    sample = age.sample(n = 100, replace = True, random_state = i)\n",
    "    sample = sample.C_AGE_NAME.mean()\n",
    "    samples.append(sample)\n",
    "\n",
    "samples = pd.Series(samples)"
   ]
  },
  {
   "cell_type": "markdown",
   "metadata": {},
   "source": [
    "The following is a distribution of the sample means (a sampling distribution):"
   ]
  },
  {
   "cell_type": "code",
   "execution_count": 8,
   "metadata": {},
   "outputs": [
    {
     "data": {
      "text/plain": [
       "Text(0, 0.5, 'Frequency')"
      ]
     },
     "execution_count": 8,
     "metadata": {},
     "output_type": "execute_result"
    },
    {
     "data": {
      "image/png": "[encoded data removed]",
      "text/plain": [
       "<Figure size 432x288 with 1 Axes>"
      ]
     },
     "metadata": {
      "needs_background": "light"
     },
     "output_type": "display_data"
    }
   ],
   "source": [
    "samples.hist(bins = 20)\n",
    "plt.xlabel(\"Mean age\")\n",
    "plt.ylabel(\"Frequency\")"
   ]
  },
  {
   "cell_type": "markdown",
   "metadata": {},
   "source": [
    "Most sample means are around 38, although a few are lower than 32 and higher than 45. Remember  in this case we know the population mean, but we wouldn't normally know this.\n",
    "If we just had access to one sample, how would we know if the resultant sample mean was close to the population mean?\n",
    "\n",
    "From the histogram of sample means we can see that it's more likely to end up with a sample mean that's close to the population mean than one that's further away, and we can quantify this with a confidence interval.\n",
    "\n",
    "Let's take one sample of 1000 random cases from the original data set and pretend it's all we have access to:"
   ]
  },
  {
   "cell_type": "code",
   "execution_count": 9,
   "metadata": {},
   "outputs": [],
   "source": [
    "sample = age.sample(n = 1000, replace = True, random_state = 42)"
   ]
  },
  {
   "cell_type": "markdown",
   "metadata": {},
   "source": [
    "The mean of this sample is:"
   ]
  },
  {
   "cell_type": "code",
   "execution_count": 10,
   "metadata": {},
   "outputs": [
    {
     "data": {
      "text/plain": [
       "37.037"
      ]
     },
     "execution_count": 10,
     "metadata": {},
     "output_type": "execute_result"
    }
   ],
   "source": [
    "sample.C_AGE_NAME.mean()"
   ]
  },
  {
   "cell_type": "markdown",
   "metadata": {},
   "source": [
    "This is very close to the population mean but not quite the same.\n",
    "The standard error of this sample mean is:"
   ]
  },
  {
   "cell_type": "code",
   "execution_count": 11,
   "metadata": {},
   "outputs": [
    {
     "data": {
      "text/plain": [
       "0.73612329708311"
      ]
     },
     "execution_count": 11,
     "metadata": {},
     "output_type": "execute_result"
    }
   ],
   "source": [
    "sample.C_AGE_NAME.sem()"
   ]
  },
  {
   "cell_type": "markdown",
   "metadata": {},
   "source": [
    "We know that an ideal normal distribution will have [95\\% of cases within 1.96 standard deviations of the mean](https://en.wikipedia.org/wiki/Normal_distribution#Standard_deviation_and_coverage).\n",
    "If we multiply our standard error by $\\pm$ 1.96 that therefore defines a 95% confidence interval.\n",
    "In this case we would have an interval of:"
   ]
  },
  {
   "cell_type": "code",
   "execution_count": 12,
   "metadata": {},
   "outputs": [
    {
     "data": {
      "text/plain": [
       "35.5941983377171"
      ]
     },
     "execution_count": 12,
     "metadata": {},
     "output_type": "execute_result"
    }
   ],
   "source": [
    "sample.C_AGE_NAME.mean() - 1.96 * sample.C_AGE_NAME.sem()"
   ]
  },
  {
   "cell_type": "markdown",
   "metadata": {},
   "source": [
    "to:"
   ]
  },
  {
   "cell_type": "code",
   "execution_count": 13,
   "metadata": {},
   "outputs": [
    {
     "data": {
      "text/plain": [
       "38.479801662282895"
      ]
     },
     "execution_count": 13,
     "metadata": {},
     "output_type": "execute_result"
    }
   ],
   "source": [
    "sample.C_AGE_NAME.mean() + 1.96 * sample.C_AGE_NAME.sem()"
   ]
  },
  {
   "cell_type": "markdown",
   "metadata": {},
   "source": [
    "This effectively estimates that if we were to take 100 samples the population mean would fall within these bounds 95 times.\n",
    "In our example the population mean is indeed within the 95% confidence interval of the sample mean (remember the population mean was:)"
   ]
  },
  {
   "cell_type": "code",
   "execution_count": 14,
   "metadata": {},
   "outputs": [
    {
     "data": {
      "text/plain": [
       "37.87209832494418"
      ]
     },
     "execution_count": 14,
     "metadata": {},
     "output_type": "execute_result"
    }
   ],
   "source": [
    "age.C_AGE_NAME.mean()"
   ]
  },
  {
   "cell_type": "markdown",
   "metadata": {},
   "source": [
    "To calculate 99% confidence intervals use 2.58 standard deviations rather than 1.96, in this example resulting in a confidence interval between:"
   ]
  },
  {
   "cell_type": "code",
   "execution_count": 15,
   "metadata": {},
   "outputs": [
    {
     "data": {
      "text/plain": [
       "35.13780189352558"
      ]
     },
     "execution_count": 15,
     "metadata": {},
     "output_type": "execute_result"
    }
   ],
   "source": [
    "sample.C_AGE_NAME.mean() - 2.58 * sample.C_AGE_NAME.sem()"
   ]
  },
  {
   "cell_type": "markdown",
   "metadata": {},
   "source": [
    "and:"
   ]
  },
  {
   "cell_type": "code",
   "execution_count": 16,
   "metadata": {},
   "outputs": [
    {
     "data": {
      "text/plain": [
       "38.93619810647442"
      ]
     },
     "execution_count": 16,
     "metadata": {},
     "output_type": "execute_result"
    }
   ],
   "source": [
    "sample.C_AGE_NAME.mean() + 2.58 * sample.C_AGE_NAME.sem()"
   ]
  },
  {
   "cell_type": "markdown",
   "metadata": {},
   "source": [
    "Perhaps counterintuitively this results in a wider interval (because the interval ensures the population mean falls within these bounds 99 times instead of 95); it is not 'more precise'.\n",
    "\n",
    "From the standard error of the mean and confidence interval we can therefore quantify how confident we are that the sample mean is close to the true population mean."
   ]
  },
  {
   "cell_type": "markdown",
   "metadata": {},
   "source": [
    "## Comparing means and confidence intervals\n",
    "\n",
    "A useful property of confidence intervals is that they can be used to compare two or more means to see if they are statistically significantly different.\n",
    "For example, we have a sample of the ages of people in Sheffield and we could create a similar sample of the ages of people in Eastbourne, calculate the confidence intervals, and compare them to see if they differ (i.e. if, on average, people are older in Eastbourne)."
   ]
  },
  {
   "cell_type": "markdown",
   "metadata": {},
   "source": [
    "From the table above we can see that the mean *is* higher than the mean for Sheffield, but remember we are comparing populations and we would not typically have access to this information.\n",
    "Let's take a sample of 1,000 individuals and calculate the mean and standard error of the mean:"
   ]
  },
  {
   "cell_type": "code",
   "execution_count": 17,
   "metadata": {},
   "outputs": [
    {
     "data": {
      "text/plain": [
       "42.294"
      ]
     },
     "execution_count": 17,
     "metadata": {},
     "output_type": "execute_result"
    }
   ],
   "source": [
    "sample_eb = age_ebn.sample(n = 1000, replace = True, random_state = 42)\n",
    "sample_eb.C_AGE_NAME.mean()"
   ]
  },
  {
   "cell_type": "markdown",
   "metadata": {},
   "source": [
    "So our sample mean is also different, but can we be sure it's different and not just the result of our sampling?'. Using the standard error of the mean our confidence interval is:"
   ]
  },
  {
   "cell_type": "code",
   "execution_count": 18,
   "metadata": {},
   "outputs": [
    {
     "data": {
      "text/plain": [
       "40.757572452123995"
      ]
     },
     "execution_count": 18,
     "metadata": {},
     "output_type": "execute_result"
    }
   ],
   "source": [
    "sample_eb.C_AGE_NAME.mean() - 1.96 * sample_eb.C_AGE_NAME.sem()"
   ]
  },
  {
   "cell_type": "markdown",
   "metadata": {},
   "source": [
    "and"
   ]
  },
  {
   "cell_type": "code",
   "execution_count": 19,
   "metadata": {},
   "outputs": [
    {
     "data": {
      "text/plain": [
       "43.830427547876"
      ]
     },
     "execution_count": 19,
     "metadata": {},
     "output_type": "execute_result"
    }
   ],
   "source": [
    "sample_eb.C_AGE_NAME.mean() + 1.96 * sample_eb.C_AGE_NAME.sem()"
   ]
  },
  {
   "cell_type": "markdown",
   "metadata": {},
   "source": [
    "Note that, reassuringly, this interval contains our population mean. Note also that the full interval is higher than the Sheffield interval (i.e. the top of the Sheffield interval is below the bottom of the Eastbourne interval). This means that the mean age of Sheffield and Eastbourne are statistically significantly different at the 95% confidence level.\n",
    "\n",
    "We can visualise the confidence intervals as:"
   ]
  },
  {
   "cell_type": "code",
   "execution_count": 20,
   "metadata": {},
   "outputs": [
    {
     "data": {
      "text/html": [
       "<div>\n",
       "<style scoped>\n",
       "    .dataframe tbody tr th:only-of-type {\n",
       "        vertical-align: middle;\n",
       "    }\n",
       "\n",
       "    .dataframe tbody tr th {\n",
       "        vertical-align: top;\n",
       "    }\n",
       "\n",
       "    .dataframe thead th {\n",
       "        text-align: right;\n",
       "    }\n",
       "</style>\n",
       "<table border=\"1\" class=\"dataframe\">\n",
       "  <thead>\n",
       "    <tr style=\"text-align: right;\">\n",
       "      <th></th>\n",
       "      <th>town</th>\n",
       "      <th>mean</th>\n",
       "      <th>sem</th>\n",
       "    </tr>\n",
       "  </thead>\n",
       "  <tbody>\n",
       "    <tr>\n",
       "      <th>0</th>\n",
       "      <td>Sheffield</td>\n",
       "      <td>37.037</td>\n",
       "      <td>0.736123</td>\n",
       "    </tr>\n",
       "    <tr>\n",
       "      <th>1</th>\n",
       "      <td>Eastbourne</td>\n",
       "      <td>42.294</td>\n",
       "      <td>0.783892</td>\n",
       "    </tr>\n",
       "  </tbody>\n",
       "</table>\n",
       "</div>"
      ],
      "text/plain": [
       "         town    mean       sem\n",
       "0   Sheffield  37.037  0.736123\n",
       "1  Eastbourne  42.294  0.783892"
      ]
     },
     "execution_count": 20,
     "metadata": {},
     "output_type": "execute_result"
    }
   ],
   "source": [
    "age_cis = {\"town\": [\"Sheffield\", \"Eastbourne\"],\n",
    "           \"mean\": [sample.C_AGE_NAME.mean(), sample_eb.C_AGE_NAME.mean()],\n",
    "           \"sem\":  [sample.C_AGE_NAME.sem(), sample_eb.C_AGE_NAME.sem()]}\n",
    "\n",
    "age_cis = pd.DataFrame.from_dict(age_cis)\n",
    "age_cis"
   ]
  },
  {
   "cell_type": "code",
   "execution_count": 21,
   "metadata": {},
   "outputs": [
    {
     "data": {
      "text/plain": [
       "Text(0.5, 0, 'Town')"
      ]
     },
     "execution_count": 21,
     "metadata": {},
     "output_type": "execute_result"
    },
    {
     "data": {
      "image/png": "[encoded data removed]",
      "text/plain": [
       "<Figure size 432x288 with 1 Axes>"
      ]
     },
     "metadata": {
      "needs_background": "light"
     },
     "output_type": "display_data"
    }
   ],
   "source": [
    "plt.errorbar(\n",
    "    x = [1, 2], y = age_cis[\"mean\"],\n",
    "    xerr = 0.02, yerr = 1.96 * age_cis[\"sem\"],\n",
    "    linestyle = \"\"\n",
    ")\n",
    "plt.xticks([1, 2], age_cis[\"town\"])\n",
    "plt.ylabel(\"Mean age\")\n",
    "plt.xlabel(\"Town\")"
   ]
  },
  {
   "cell_type": "markdown",
   "metadata": {},
   "source": [
    "As you can see in this example the correlation statistic is very similar and the $p$ value is still significant ($<< 0.01$)."
   ]
  }
 ],
 "metadata": {
  "kernelspec": {
   "display_name": "Python 3",
   "language": "python",
   "name": "python3"
  },
  "language_info": {
   "codemirror_mode": {
    "name": "ipython",
    "version": 3
   },
   "file_extension": ".py",
   "mimetype": "text/x-python",
   "name": "python",
   "nbconvert_exporter": "python",
   "pygments_lexer": "ipython3",
   "version": "3.6.6"
  }
 },
 "nbformat": 4,
 "nbformat_minor": 2
}
